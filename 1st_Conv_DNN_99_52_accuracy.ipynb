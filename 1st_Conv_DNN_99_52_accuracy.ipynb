{
  "nbformat": 4,
  "nbformat_minor": 0,
  "metadata": {
    "colab": {
      "name": "1st Conv DNN 99.52% accuracy.ipynb",
      "version": "0.3.2",
      "provenance": [],
      "collapsed_sections": [],
      "include_colab_link": true
    },
    "kernelspec": {
      "name": "python3",
      "display_name": "Python 3"
    },
    "accelerator": "GPU"
  },
  "cells": [
    {
      "cell_type": "markdown",
      "metadata": {
        "id": "view-in-github",
        "colab_type": "text"
      },
      "source": [
        "<a href=\"https://colab.research.google.com/github/spireon-ex10/Handwritten-digit-recognition-KERAS/blob/master/1st_Conv_DNN_99_52_accuracy.ipynb\" target=\"_parent\"><img src=\"https://colab.research.google.com/assets/colab-badge.svg\" alt=\"Open In Colab\"/></a>"
      ]
    },
    {
      "metadata": {
        "id": "aNyZv-Ec52ot",
        "colab_type": "text"
      },
      "cell_type": "markdown",
      "source": [
        "# **Import Libraries and modules**"
      ]
    },
    {
      "metadata": {
        "id": "3m3w1Cw49Zkt",
        "colab_type": "code",
        "outputId": "90ed9f6a-7e7e-4c4b-9732-69119ff2575b",
        "colab": {
          "base_uri": "https://localhost:8080/",
          "height": 34
        }
      },
      "cell_type": "code",
      "source": [
        "# https://keras.io/\n",
        "!pip install -q keras\n",
        "import keras"
      ],
      "execution_count": 1,
      "outputs": [
        {
          "output_type": "stream",
          "text": [
            "Using TensorFlow backend.\n"
          ],
          "name": "stderr"
        }
      ]
    },
    {
      "metadata": {
        "id": "Eso6UHE080D4",
        "colab_type": "code",
        "colab": {}
      },
      "cell_type": "code",
      "source": [
        "import numpy as np\n",
        "\n",
        "from keras.models import Sequential\n",
        "from keras.layers import Dense, Dropout, Activation, Flatten, Add\n",
        "from keras.layers import Convolution2D, MaxPooling2D\n",
        "from keras.utils import np_utils\n",
        "\n",
        "from keras.datasets import mnist"
      ],
      "execution_count": 0,
      "outputs": []
    },
    {
      "metadata": {
        "id": "zByEi95J86RD",
        "colab_type": "text"
      },
      "cell_type": "markdown",
      "source": [
        "### Load pre-shuffled MNIST data into train and test sets"
      ]
    },
    {
      "metadata": {
        "id": "7eRM0QWN83PV",
        "colab_type": "code",
        "outputId": "50ed362e-c966-4df1-b7f8-18cb5ede1a83",
        "colab": {
          "base_uri": "https://localhost:8080/",
          "height": 51
        }
      },
      "cell_type": "code",
      "source": [
        "(X_train, y_train), (X_test, y_test) = mnist.load_data()\n",
        "\n",
        "\n",
        "from sklearn.model_selection import train_test_split\n",
        "X_train, X_val, y_train, y_val = train_test_split(X_train, y_train, test_size=0.1, random_state=2)"
      ],
      "execution_count": 3,
      "outputs": [
        {
          "output_type": "stream",
          "text": [
            "Downloading data from https://s3.amazonaws.com/img-datasets/mnist.npz\n",
            "11493376/11490434 [==============================] - 2s 0us/step\n"
          ],
          "name": "stdout"
        }
      ]
    },
    {
      "metadata": {
        "id": "4a4Be72j8-ZC",
        "colab_type": "code",
        "outputId": "dd735f49-a136-4b7a-f6d9-142c29a90b73",
        "colab": {
          "base_uri": "https://localhost:8080/",
          "height": 300
        }
      },
      "cell_type": "code",
      "source": [
        "print (X_train.shape)\n",
        "from matplotlib import pyplot as plt\n",
        "%matplotlib inline\n",
        "plt.imshow(X_train[0])"
      ],
      "execution_count": 0,
      "outputs": [
        {
          "output_type": "stream",
          "text": [
            "(60000, 28, 28)\n"
          ],
          "name": "stdout"
        },
        {
          "output_type": "execute_result",
          "data": {
            "text/plain": [
              "<matplotlib.image.AxesImage at 0x7f124ab6c9b0>"
            ]
          },
          "metadata": {
            "tags": []
          },
          "execution_count": 4
        },
        {
          "output_type": "display_data",
          "data": {
            "image/png": "[encoded data removed]",
            "text/plain": [
              "<Figure size 432x288 with 1 Axes>"
            ]
          },
          "metadata": {
            "tags": []
          }
        }
      ]
    },
    {
      "metadata": {
        "id": "dkmprriw9AnZ",
        "colab_type": "code",
        "colab": {}
      },
      "cell_type": "code",
      "source": [
        "X_train = X_train.reshape(X_train.shape[0], 28, 28,1)\n",
        "X_val = X_val.reshape(X_val.shape[0], 28, 28, 1)\n",
        "X_test = X_test.reshape(X_test.shape[0], 28, 28,1)"
      ],
      "execution_count": 0,
      "outputs": []
    },
    {
      "metadata": {
        "id": "X2m4YS4E9CRh",
        "colab_type": "code",
        "colab": {}
      },
      "cell_type": "code",
      "source": [
        "X_train = X_train.astype('float32')\n",
        "X_val = X_val.astype('float32')\n",
        "X_test = X_test.astype('float32')\n",
        "X_train /= 255\n",
        "X_val /= 255\n",
        "X_test /= 255"
      ],
      "execution_count": 0,
      "outputs": []
    },
    {
      "metadata": {
        "id": "0Mn0vAYD9DvB",
        "colab_type": "code",
        "outputId": "e0deb2d4-ba30-4ac9-b993-2e802724e643",
        "colab": {
          "base_uri": "https://localhost:8080/",
          "height": 34
        }
      },
      "cell_type": "code",
      "source": [
        "y_train[:10]"
      ],
      "execution_count": 7,
      "outputs": [
        {
          "output_type": "execute_result",
          "data": {
            "text/plain": [
              "array([4, 2, 7, 7, 8, 7, 4, 0, 9, 8], dtype=uint8)"
            ]
          },
          "metadata": {
            "tags": []
          },
          "execution_count": 7
        }
      ]
    },
    {
      "metadata": {
        "id": "ZG8JiXR39FHC",
        "colab_type": "code",
        "colab": {}
      },
      "cell_type": "code",
      "source": [
        "# Convert 1-dimensional class arrays to 10-dimensional class matrices\n",
        "Y_train = np_utils.to_categorical(y_train, 10)\n",
        "Y_val = np_utils.to_categorical(y_val, 10)\n",
        "Y_test = np_utils.to_categorical(y_test, 10)"
      ],
      "execution_count": 0,
      "outputs": []
    },
    {
      "metadata": {
        "id": "fYlFRvKS9HMB",
        "colab_type": "code",
        "outputId": "ef4de3db-db11-4b71-d0ca-872c4c7e5b03",
        "colab": {
          "base_uri": "https://localhost:8080/",
          "height": 187
        }
      },
      "cell_type": "code",
      "source": [
        "Y_train[:10]\n"
      ],
      "execution_count": 10,
      "outputs": [
        {
          "output_type": "execute_result",
          "data": {
            "text/plain": [
              "array([[0., 0., 0., 0., 1., 0., 0., 0., 0., 0.],\n",
              "       [0., 0., 1., 0., 0., 0., 0., 0., 0., 0.],\n",
              "       [0., 0., 0., 0., 0., 0., 0., 1., 0., 0.],\n",
              "       [0., 0., 0., 0., 0., 0., 0., 1., 0., 0.],\n",
              "       [0., 0., 0., 0., 0., 0., 0., 0., 1., 0.],\n",
              "       [0., 0., 0., 0., 0., 0., 0., 1., 0., 0.],\n",
              "       [0., 0., 0., 0., 1., 0., 0., 0., 0., 0.],\n",
              "       [1., 0., 0., 0., 0., 0., 0., 0., 0., 0.],\n",
              "       [0., 0., 0., 0., 0., 0., 0., 0., 0., 1.],\n",
              "       [0., 0., 0., 0., 0., 0., 0., 0., 1., 0.]], dtype=float32)"
            ]
          },
          "metadata": {
            "tags": []
          },
          "execution_count": 10
        }
      ]
    },
    {
      "metadata": {
        "id": "osKqT73Q9JJB",
        "colab_type": "code",
        "colab": {}
      },
      "cell_type": "code",
      "source": [
        "from keras.layers import Activation,MaxPooling2D,BatchNormalization\n",
        "model = Sequential()\n",
        "\n",
        "#apply a 3x3 convolution with 32 output filters(channel which filter out) on a 28x28 image:\n",
        "#filter == kernel == feature extractor\n",
        "#relu : Rectifier Linear Unit\n",
        "\n",
        "\n",
        "model.add(Convolution2D(32,(3,3), padding='same', activation='relu', input_shape =(28,28,1)))\n",
        "model.add(BatchNormalization())\n",
        "model.add(Convolution2D(32,(3,3), padding='same', activation='relu'))\n",
        "model.add(BatchNormalization())\n",
        "model.add(MaxPooling2D(pool_size=(2, 2)))\n",
        "model.add(Convolution2D(32,(5,5), padding='same', activation='relu'))\n",
        "model.add(BatchNormalization())\n",
        "model.add(Dropout(0.4))\n",
        "\n",
        "model.add(Convolution2D(64,(3,3), padding='same', activation='relu', input_shape =(28,28,1)))\n",
        "model.add(BatchNormalization())\n",
        "model.add(Convolution2D(64,(3,3), padding='same', activation='relu'))\n",
        "model.add(BatchNormalization())\n",
        "model.add(MaxPooling2D(pool_size=(2, 2)))\n",
        "model.add(Convolution2D(64,(5,5), activation='relu'))\n",
        "model.add(BatchNormalization())\n",
        "model.add(Dropout(0.4))\n",
        "\n",
        "\n",
        " \n",
        "model.add(Convolution2D(10, 1, activation='relu'))\n",
        "model.add(Convolution2D(10, 3))\n",
        "model.add(Flatten())\n",
        "model.add(Activation('softmax'))"
      ],
      "execution_count": 0,
      "outputs": []
    },
    {
      "metadata": {
        "id": "TzdAYg1k9K7Z",
        "colab_type": "code",
        "outputId": "80a2e3fb-f1bf-404e-d7cf-0a5a2eed23b2",
        "colab": {
          "base_uri": "https://localhost:8080/",
          "height": 816
        }
      },
      "cell_type": "code",
      "source": [
        "model.summary()"
      ],
      "execution_count": 15,
      "outputs": [
        {
          "output_type": "stream",
          "text": [
            "_________________________________________________________________\n",
            "Layer (type)                 Output Shape              Param #   \n",
            "=================================================================\n",
            "conv2d_1 (Conv2D)            (None, 28, 28, 32)        320       \n",
            "_________________________________________________________________\n",
            "batch_normalization_1 (Batch (None, 28, 28, 32)        128       \n",
            "_________________________________________________________________\n",
            "conv2d_2 (Conv2D)            (None, 28, 28, 32)        9248      \n",
            "_________________________________________________________________\n",
            "batch_normalization_2 (Batch (None, 28, 28, 32)        128       \n",
            "_________________________________________________________________\n",
            "max_pooling2d_1 (MaxPooling2 (None, 14, 14, 32)        0         \n",
            "_________________________________________________________________\n",
            "conv2d_3 (Conv2D)            (None, 14, 14, 32)        25632     \n",
            "_________________________________________________________________\n",
            "batch_normalization_3 (Batch (None, 14, 14, 32)        128       \n",
            "_________________________________________________________________\n",
            "dropout_1 (Dropout)          (None, 14, 14, 32)        0         \n",
            "_________________________________________________________________\n",
            "conv2d_4 (Conv2D)            (None, 14, 14, 64)        18496     \n",
            "_________________________________________________________________\n",
            "batch_normalization_4 (Batch (None, 14, 14, 64)        256       \n",
            "_________________________________________________________________\n",
            "conv2d_5 (Conv2D)            (None, 14, 14, 64)        36928     \n",
            "_________________________________________________________________\n",
            "batch_normalization_5 (Batch (None, 14, 14, 64)        256       \n",
            "_________________________________________________________________\n",
            "max_pooling2d_2 (MaxPooling2 (None, 7, 7, 64)          0         \n",
            "_________________________________________________________________\n",
            "conv2d_6 (Conv2D)            (None, 3, 3, 64)          102464    \n",
            "_________________________________________________________________\n",
            "batch_normalization_6 (Batch (None, 3, 3, 64)          256       \n",
            "_________________________________________________________________\n",
            "dropout_2 (Dropout)          (None, 3, 3, 64)          0         \n",
            "_________________________________________________________________\n",
            "conv2d_7 (Conv2D)            (None, 3, 3, 10)          650       \n",
            "_________________________________________________________________\n",
            "conv2d_8 (Conv2D)            (None, 1, 1, 10)          910       \n",
            "_________________________________________________________________\n",
            "flatten_1 (Flatten)          (None, 10)                0         \n",
            "_________________________________________________________________\n",
            "activation_1 (Activation)    (None, 10)                0         \n",
            "=================================================================\n",
            "Total params: 195,800\n",
            "Trainable params: 195,224\n",
            "Non-trainable params: 576\n",
            "_________________________________________________________________\n"
          ],
          "name": "stdout"
        }
      ]
    },
    {
      "metadata": {
        "id": "Zp6SuGrL9M3h",
        "colab_type": "code",
        "colab": {}
      },
      "cell_type": "code",
      "source": [
        "model.compile(loss='categorical_crossentropy',\n",
        "             optimizer='adadelta',\n",
        "             metrics=['accuracy'])"
      ],
      "execution_count": 0,
      "outputs": []
    },
    {
      "metadata": {
        "id": "4xWoKhPY9Of5",
        "colab_type": "code",
        "outputId": "fdb78ae6-8655-4b7c-9647-771d26a2526b",
        "colab": {
          "base_uri": "https://localhost:8080/",
          "height": 1275
        }
      },
      "cell_type": "code",
      "source": [
        "model.fit(X_train, Y_train, batch_size=64, nb_epoch=35, verbose=1, validation_data=(X_val, Y_val))"
      ],
      "execution_count": 17,
      "outputs": [
        {
          "output_type": "stream",
          "text": [
            "/usr/local/lib/python3.6/dist-packages/ipykernel_launcher.py:1: UserWarning: The `nb_epoch` argument in `fit` has been renamed `epochs`.\n",
            "  \"\"\"Entry point for launching an IPython kernel.\n"
          ],
          "name": "stderr"
        },
        {
          "output_type": "stream",
          "text": [
            "Train on 54000 samples, validate on 6000 samples\n",
            "Epoch 1/35\n",
            "54000/54000 [==============================] - 25s 461us/step - loss: 0.0040 - acc: 0.9986 - val_loss: 3.0610 - val_acc: 0.8028\n",
            "Epoch 2/35\n",
            "54000/54000 [==============================] - 23s 430us/step - loss: 0.0042 - acc: 0.9988 - val_loss: 2.3697 - val_acc: 0.8465\n",
            "Epoch 3/35\n",
            "54000/54000 [==============================] - 23s 429us/step - loss: 0.0045 - acc: 0.9985 - val_loss: 2.4504 - val_acc: 0.8422\n",
            "Epoch 4/35\n",
            "54000/54000 [==============================] - 23s 429us/step - loss: 0.0036 - acc: 0.9989 - val_loss: 2.4529 - val_acc: 0.8423\n",
            "Epoch 5/35\n",
            "54000/54000 [==============================] - 23s 426us/step - loss: 0.0039 - acc: 0.9987 - val_loss: 3.3410 - val_acc: 0.7893\n",
            "Epoch 6/35\n",
            "54000/54000 [==============================] - 23s 428us/step - loss: 0.0043 - acc: 0.9985 - val_loss: 3.1431 - val_acc: 0.8010\n",
            "Epoch 7/35\n",
            "54000/54000 [==============================] - 23s 428us/step - loss: 0.0035 - acc: 0.9990 - val_loss: 3.0285 - val_acc: 0.8095\n",
            "Epoch 8/35\n",
            "54000/54000 [==============================] - 23s 429us/step - loss: 0.0025 - acc: 0.9993 - val_loss: 2.5047 - val_acc: 0.8425\n",
            "Epoch 9/35\n",
            "54000/54000 [==============================] - 23s 429us/step - loss: 0.0024 - acc: 0.9992 - val_loss: 3.4438 - val_acc: 0.7817\n",
            "Epoch 10/35\n",
            "54000/54000 [==============================] - 23s 429us/step - loss: 0.0029 - acc: 0.9990 - val_loss: 2.8827 - val_acc: 0.8180\n",
            "Epoch 11/35\n",
            "54000/54000 [==============================] - 23s 428us/step - loss: 0.0029 - acc: 0.9989 - val_loss: 3.6065 - val_acc: 0.7713\n",
            "Epoch 12/35\n",
            "54000/54000 [==============================] - 23s 428us/step - loss: 0.0033 - acc: 0.9989 - val_loss: 2.9159 - val_acc: 0.8163\n",
            "Epoch 13/35\n",
            "54000/54000 [==============================] - 23s 428us/step - loss: 0.0028 - acc: 0.9990 - val_loss: 2.6992 - val_acc: 0.8267\n",
            "Epoch 14/35\n",
            "54000/54000 [==============================] - 23s 429us/step - loss: 0.0023 - acc: 0.9991 - val_loss: 2.5769 - val_acc: 0.8365\n",
            "Epoch 15/35\n",
            "54000/54000 [==============================] - 23s 428us/step - loss: 0.0025 - acc: 0.9990 - val_loss: 2.5070 - val_acc: 0.8420\n",
            "Epoch 16/35\n",
            "54000/54000 [==============================] - 23s 428us/step - loss: 0.0021 - acc: 0.9992 - val_loss: 2.6149 - val_acc: 0.8357\n",
            "Epoch 17/35\n",
            "54000/54000 [==============================] - 23s 428us/step - loss: 0.0023 - acc: 0.9992 - val_loss: 2.4588 - val_acc: 0.8457\n",
            "Epoch 18/35\n",
            "54000/54000 [==============================] - 23s 425us/step - loss: 0.0030 - acc: 0.9990 - val_loss: 2.6659 - val_acc: 0.8322\n",
            "Epoch 19/35\n",
            "54000/54000 [==============================] - 23s 429us/step - loss: 0.0025 - acc: 0.9990 - val_loss: 3.1642 - val_acc: 0.8013\n",
            "Epoch 20/35\n",
            "54000/54000 [==============================] - 23s 430us/step - loss: 0.0021 - acc: 0.9993 - val_loss: 3.4394 - val_acc: 0.7822\n",
            "Epoch 21/35\n",
            "54000/54000 [==============================] - 23s 431us/step - loss: 0.0026 - acc: 0.9990 - val_loss: 3.7255 - val_acc: 0.7650\n",
            "Epoch 22/35\n",
            "54000/54000 [==============================] - 23s 433us/step - loss: 0.0020 - acc: 0.9994 - val_loss: 3.5519 - val_acc: 0.7750\n",
            "Epoch 23/35\n",
            "54000/54000 [==============================] - 23s 431us/step - loss: 0.0028 - acc: 0.9992 - val_loss: 3.6016 - val_acc: 0.7718\n",
            "Epoch 24/35\n",
            "54000/54000 [==============================] - 23s 429us/step - loss: 0.0024 - acc: 0.9992 - val_loss: 4.7867 - val_acc: 0.6983\n",
            "Epoch 25/35\n",
            "54000/54000 [==============================] - 23s 428us/step - loss: 0.0018 - acc: 0.9993 - val_loss: 4.4469 - val_acc: 0.7195\n",
            "Epoch 26/35\n",
            "54000/54000 [==============================] - 23s 427us/step - loss: 0.0025 - acc: 0.9990 - val_loss: 4.0475 - val_acc: 0.7425\n",
            "Epoch 27/35\n",
            "54000/54000 [==============================] - 23s 429us/step - loss: 0.0020 - acc: 0.9993 - val_loss: 3.2633 - val_acc: 0.7925\n",
            "Epoch 28/35\n",
            "54000/54000 [==============================] - 23s 429us/step - loss: 0.0020 - acc: 0.9994 - val_loss: 3.0705 - val_acc: 0.8055\n",
            "Epoch 29/35\n",
            "54000/54000 [==============================] - 23s 428us/step - loss: 0.0021 - acc: 0.9993 - val_loss: 3.7244 - val_acc: 0.7648\n",
            "Epoch 30/35\n",
            "54000/54000 [==============================] - 23s 430us/step - loss: 0.0025 - acc: 0.9992 - val_loss: 3.4680 - val_acc: 0.7805\n",
            "Epoch 31/35\n",
            "54000/54000 [==============================] - 23s 429us/step - loss: 0.0025 - acc: 0.9992 - val_loss: 3.3434 - val_acc: 0.7887\n",
            "Epoch 32/35\n",
            "54000/54000 [==============================] - 23s 425us/step - loss: 0.0026 - acc: 0.9992 - val_loss: 3.0425 - val_acc: 0.8080\n",
            "Epoch 33/35\n",
            "54000/54000 [==============================] - 23s 429us/step - loss: 0.0023 - acc: 0.9993 - val_loss: 4.3530 - val_acc: 0.7238\n",
            "Epoch 34/35\n",
            "54000/54000 [==============================] - 23s 428us/step - loss: 0.0025 - acc: 0.9991 - val_loss: 2.9112 - val_acc: 0.8162\n",
            "Epoch 35/35\n",
            "54000/54000 [==============================] - 23s 430us/step - loss: 0.0020 - acc: 0.9993 - val_loss: 3.1966 - val_acc: 0.7985\n"
          ],
          "name": "stdout"
        },
        {
          "output_type": "execute_result",
          "data": {
            "text/plain": [
              "<keras.callbacks.History at 0x7f4a9c5eb588>"
            ]
          },
          "metadata": {
            "tags": []
          },
          "execution_count": 17
        }
      ]
    },
    {
      "metadata": {
        "id": "AtsH-lLk-eLb",
        "colab_type": "code",
        "colab": {}
      },
      "cell_type": "code",
      "source": [
        "score = model.evaluate(X_test, Y_test, verbose=0)"
      ],
      "execution_count": 0,
      "outputs": []
    },
    {
      "metadata": {
        "id": "mkX8JMv79q9r",
        "colab_type": "code",
        "outputId": "54f4fed7-af42-429b-9316-2a06a4c4646a",
        "colab": {
          "base_uri": "https://localhost:8080/",
          "height": 34
        }
      },
      "cell_type": "code",
      "source": [
        "print(score)"
      ],
      "execution_count": 19,
      "outputs": [
        {
          "output_type": "stream",
          "text": [
            "[0.029469053408025116, 0.9952]\n"
          ],
          "name": "stdout"
        }
      ]
    },
    {
      "metadata": {
        "id": "OCWoJkwE9suh",
        "colab_type": "code",
        "colab": {}
      },
      "cell_type": "code",
      "source": [
        "y_pred = model.predict(X_test)"
      ],
      "execution_count": 0,
      "outputs": []
    },
    {
      "metadata": {
        "id": "Ym7iCFBm9uBs",
        "colab_type": "code",
        "outputId": "a219391a-4454-462c-9f46-579ae56f270b",
        "colab": {
          "base_uri": "https://localhost:8080/",
          "height": 493
        }
      },
      "cell_type": "code",
      "source": [
        "print(y_pred[:9])\n",
        "print(y_test[:9])"
      ],
      "execution_count": 21,
      "outputs": [
        {
          "output_type": "stream",
          "text": [
            "[[3.71635686e-23 6.83541775e-18 1.04487529e-19 3.04920797e-18\n",
            "  2.14768502e-12 2.34163185e-17 5.63535914e-23 1.00000000e+00\n",
            "  3.36882035e-20 1.05061732e-14]\n",
            " [8.22903179e-18 6.24643010e-19 1.00000000e+00 1.41626518e-21\n",
            "  1.15666030e-18 2.59543706e-29 5.10525974e-16 5.08082565e-21\n",
            "  1.06753403e-19 7.96895674e-23]\n",
            " [2.46570986e-14 1.00000000e+00 8.84322658e-14 3.24008195e-14\n",
            "  8.70487544e-15 8.79846543e-12 1.34306066e-10 2.61396070e-12\n",
            "  1.98196320e-11 1.59476021e-17]\n",
            " [1.00000000e+00 7.19065925e-21 6.87057509e-19 1.12585421e-22\n",
            "  2.45276884e-21 6.21204304e-20 2.14887812e-15 2.10835831e-17\n",
            "  1.12989695e-17 2.38492962e-18]\n",
            " [4.00757413e-25 2.16879001e-16 2.53248231e-21 1.52328116e-25\n",
            "  1.00000000e+00 2.59707312e-20 9.43985050e-18 7.21729560e-19\n",
            "  7.53285855e-17 1.32221626e-13]\n",
            " [5.80383079e-15 1.00000000e+00 2.07488860e-16 8.24955960e-17\n",
            "  1.45100691e-14 1.14337462e-14 1.03018559e-12 4.70065098e-11\n",
            "  8.35207944e-12 1.25954977e-16]\n",
            " [7.25262076e-27 3.79910794e-15 1.32173102e-22 6.69811375e-28\n",
            "  1.00000000e+00 6.64449784e-19 7.23130806e-23 2.22010503e-14\n",
            "  8.14784815e-18 1.32322839e-16]\n",
            " [1.09878416e-22 1.48651285e-26 4.31273905e-25 1.50447028e-20\n",
            "  1.02382079e-13 3.05508757e-18 1.16844808e-25 5.91144625e-21\n",
            "  4.33371861e-24 1.00000000e+00]\n",
            " [1.32191601e-17 8.63542632e-21 1.77746728e-19 1.18583567e-16\n",
            "  2.61848094e-20 1.00000000e+00 1.07728132e-10 5.87058876e-22\n",
            "  6.71519356e-16 3.53508109e-17]]\n",
            "[7 2 1 0 4 1 4 9 5]\n"
          ],
          "name": "stdout"
        }
      ]
    },
    {
      "metadata": {
        "id": "CT--y98_dr2T",
        "colab_type": "code",
        "colab": {}
      },
      "cell_type": "code",
      "source": [
        "layer_dict = dict([(layer.name, layer) for layer in model.layers])"
      ],
      "execution_count": 0,
      "outputs": []
    },
    {
      "metadata": {
        "id": "2GY4Upv4dsUR",
        "colab_type": "code",
        "outputId": "ce05b9b6-e1f6-4ce5-8a5f-192ed3a6c0e1",
        "colab": {
          "base_uri": "https://localhost:8080/",
          "height": 839
        }
      },
      "cell_type": "code",
      "source": [
        "import numpy as np\n",
        "from matplotlib import pyplot as plt\n",
        "from keras import backend as K\n",
        "%matplotlib inline\n",
        "# util function to convert a tensor into a valid image\n",
        "def deprocess_image(x):\n",
        "    # normalize tensor: center on 0., ensure std is 0.1\n",
        "    x -= x.mean()\n",
        "    x /= (x.std() + 1e-5)\n",
        "    x *= 0.1\n",
        "\n",
        "    # clip to [0, 1]\n",
        "    x += 0.5\n",
        "    x = np.clip(x, 0, 1)\n",
        "\n",
        "    # convert to RGB array\n",
        "    x *= 255\n",
        "    #x = x.transpose((1, 2, 0))\n",
        "    x = np.clip(x, 0, 255).astype('uint8')\n",
        "    return x\n",
        "\n",
        "def vis_img_in_filter(img = np.array(X_train[2]).reshape((1, 28, 28, 1)).astype(np.float64), \n",
        "                      layer_name = 'conv2d_3'):\n",
        "    layer_output = layer_dict[layer_name].output\n",
        "    img_ascs = list()\n",
        "    for filter_index in range(layer_output.shape[3]):\n",
        "        # build a loss function that maximizes the activation\n",
        "        # of the nth filter of the layer considered\n",
        "        loss = K.mean(layer_output[:, :, :, filter_index])\n",
        "\n",
        "        # compute the gradient of the input picture wrt this loss\n",
        "        grads = K.gradients(loss, model.input)[0]\n",
        "\n",
        "        # normalization trick: we normalize the gradient\n",
        "        grads /= (K.sqrt(K.mean(K.square(grads))) + 1e-5)\n",
        "\n",
        "        # this function returns the loss and grads given the input picture\n",
        "        iterate = K.function([model.input], [loss, grads])\n",
        "\n",
        "        # step size for gradient ascent\n",
        "        step = 5.\n",
        "\n",
        "        img_asc = np.array(img)\n",
        "        # run gradient ascent for 20 steps\n",
        "        for i in range(20):\n",
        "            loss_value, grads_value = iterate([img_asc])\n",
        "            img_asc += grads_value * step\n",
        "\n",
        "        img_asc = img_asc[0]\n",
        "        img_ascs.append(deprocess_image(img_asc).reshape((28, 28)))\n",
        "        \n",
        "    if layer_output.shape[3] >= 35:\n",
        "        plot_x, plot_y = 6, 6\n",
        "    elif layer_output.shape[3] >= 23:\n",
        "        plot_x, plot_y = 4, 6\n",
        "    elif layer_output.shape[3] >= 11:\n",
        "        plot_x, plot_y = 2, 6\n",
        "    else:\n",
        "        plot_x, plot_y = 1, 2\n",
        "    fig, ax = plt.subplots(plot_x, plot_y, figsize = (12, 12))\n",
        "    ax[0, 0].imshow(img.reshape((28, 28)), cmap = 'gray')\n",
        "    ax[0, 0].set_title('Input image')\n",
        "    fig.suptitle('Input image and %s filters' % (layer_name,))\n",
        "    fig.tight_layout(pad = 0.3, rect = [0, 0, 0.9, 0.9])\n",
        "    for (x, y) in [(i, j) for i in range(plot_x) for j in range(plot_y)]:\n",
        "        if x == 0 and y == 0:\n",
        "            continue\n",
        "        ax[x, y].imshow(img_ascs[x * plot_y + y - 1], cmap = 'gray')\n",
        "        ax[x, y].set_title('filter %d' % (x * plot_y + y - 1))\n",
        "\n",
        "vis_img_in_filter()"
      ],
      "execution_count": 29,
      "outputs": [
        {
          "output_type": "display_data",
          "data": {
            "image/png": "[encoded data removed]",
            "text/plain": [
              "<Figure size 864x864 with 24 Axes>"
            ]
          },
          "metadata": {
            "tags": []
          }
        }
      ]
    },
    {
      "metadata": {
        "id": "KJJnL8DtxiDo",
        "colab_type": "code",
        "colab": {}
      },
      "cell_type": "code",
      "source": [
        ""
      ],
      "execution_count": 0,
      "outputs": []
    }
  ]
}