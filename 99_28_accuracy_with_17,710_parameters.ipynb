{
  "nbformat": 4,
  "nbformat_minor": 0,
  "metadata": {
    "colab": {
      "name": "99_28_accuracy_with_17,710_parameters.ipynb",
      "version": "0.3.2",
      "provenance": [],
      "collapsed_sections": [],
      "include_colab_link": true
    },
    "kernelspec": {
      "name": "python3",
      "display_name": "Python 3"
    },
    "accelerator": "GPU"
  },
  "cells": [
    {
      "cell_type": "markdown",
      "metadata": {
        "id": "view-in-github",
        "colab_type": "text"
      },
      "source": [
        "<a href=\"https://colab.research.google.com/github/spireon-ex10/Handwritten-digit-recognition-KERAS/blob/master/99_28_accuracy_with_17%2C710_parameters.ipynb\" target=\"_parent\"><img src=\"https://colab.research.google.com/assets/colab-badge.svg\" alt=\"Open In Colab\"/></a>"
      ]
    },
    {
      "metadata": {
        "id": "aNyZv-Ec52ot",
        "colab_type": "text"
      },
      "cell_type": "markdown",
      "source": [
        "# **Import Libraries and modules**"
      ]
    },
    {
      "metadata": {
        "id": "3m3w1Cw49Zkt",
        "colab_type": "code",
        "outputId": "c69ea8c7-4075-47a8-8881-c6a9e70c7777",
        "colab": {
          "base_uri": "https://localhost:8080/",
          "height": 34
        }
      },
      "cell_type": "code",
      "source": [
        "# https://keras.io/\n",
        "!pip install -q keras\n",
        "import keras"
      ],
      "execution_count": 0,
      "outputs": [
        {
          "output_type": "stream",
          "text": [
            "Using TensorFlow backend.\n"
          ],
          "name": "stderr"
        }
      ]
    },
    {
      "metadata": {
        "id": "Eso6UHE080D4",
        "colab_type": "code",
        "colab": {}
      },
      "cell_type": "code",
      "source": [
        "import numpy as np\n",
        "\n",
        "from keras.models import Sequential\n",
        "from keras.layers import Dense, Dropout, Activation, Flatten, Add\n",
        "from keras.layers import Convolution2D, MaxPooling2D\n",
        "from keras.utils import np_utils\n",
        "\n",
        "from keras.datasets import mnist"
      ],
      "execution_count": 0,
      "outputs": []
    },
    {
      "metadata": {
        "id": "zByEi95J86RD",
        "colab_type": "text"
      },
      "cell_type": "markdown",
      "source": [
        "### Load pre-shuffled MNIST data into train and test sets"
      ]
    },
    {
      "metadata": {
        "id": "7eRM0QWN83PV",
        "colab_type": "code",
        "outputId": "8c469073-3ece-42ad-b62f-0af102862414",
        "colab": {
          "base_uri": "https://localhost:8080/",
          "height": 51
        }
      },
      "cell_type": "code",
      "source": [
        "(X_train, y_train), (X_test, y_test) = mnist.load_data()"
      ],
      "execution_count": 0,
      "outputs": [
        {
          "output_type": "stream",
          "text": [
            "Downloading data from https://s3.amazonaws.com/img-datasets/mnist.npz\n",
            "11493376/11490434 [==============================] - 0s 0us/step\n"
          ],
          "name": "stdout"
        }
      ]
    },
    {
      "metadata": {
        "id": "4a4Be72j8-ZC",
        "colab_type": "code",
        "outputId": "5698bd28-5be2-492a-8035-77fa68ffccf1",
        "colab": {
          "base_uri": "https://localhost:8080/",
          "height": 299
        }
      },
      "cell_type": "code",
      "source": [
        "print (X_train.shape)\n",
        "from matplotlib import pyplot as plt\n",
        "%matplotlib inline\n",
        "plt.imshow(X_train[0])"
      ],
      "execution_count": 0,
      "outputs": [
        {
          "output_type": "stream",
          "text": [
            "(60000, 28, 28)\n"
          ],
          "name": "stdout"
        },
        {
          "output_type": "execute_result",
          "data": {
            "text/plain": [
              "<matplotlib.image.AxesImage at 0x7ffa7013e080>"
            ]
          },
          "metadata": {
            "tags": []
          },
          "execution_count": 4
        },
        {
          "output_type": "display_data",
          "data": {
            "image/png": "[encoded data removed]",
            "text/plain": [
              "<Figure size 432x288 with 1 Axes>"
            ]
          },
          "metadata": {
            "tags": []
          }
        }
      ]
    },
    {
      "metadata": {
        "id": "dkmprriw9AnZ",
        "colab_type": "code",
        "colab": {}
      },
      "cell_type": "code",
      "source": [
        "X_train = X_train.reshape(X_train.shape[0], 28, 28,1)\n",
        "X_test = X_test.reshape(X_test.shape[0], 28, 28,1)"
      ],
      "execution_count": 0,
      "outputs": []
    },
    {
      "metadata": {
        "id": "X2m4YS4E9CRh",
        "colab_type": "code",
        "colab": {}
      },
      "cell_type": "code",
      "source": [
        "X_train = X_train.astype('float32')\n",
        "X_test = X_test.astype('float32')\n",
        "X_train /= 255\n",
        "X_test /= 255"
      ],
      "execution_count": 0,
      "outputs": []
    },
    {
      "metadata": {
        "id": "0Mn0vAYD9DvB",
        "colab_type": "code",
        "outputId": "1e94caac-81b0-4679-956d-9c287bd2972f",
        "colab": {
          "base_uri": "https://localhost:8080/",
          "height": 34
        }
      },
      "cell_type": "code",
      "source": [
        "y_train[:10]"
      ],
      "execution_count": 0,
      "outputs": [
        {
          "output_type": "execute_result",
          "data": {
            "text/plain": [
              "array([5, 0, 4, 1, 9, 2, 1, 3, 1, 4], dtype=uint8)"
            ]
          },
          "metadata": {
            "tags": []
          },
          "execution_count": 7
        }
      ]
    },
    {
      "metadata": {
        "id": "ZG8JiXR39FHC",
        "colab_type": "code",
        "colab": {}
      },
      "cell_type": "code",
      "source": [
        "# Convert 1-dimensional class arrays to 10-dimensional class matrices\n",
        "Y_train = np_utils.to_categorical(y_train, 10)\n",
        "Y_test = np_utils.to_categorical(y_test, 10)"
      ],
      "execution_count": 0,
      "outputs": []
    },
    {
      "metadata": {
        "id": "fYlFRvKS9HMB",
        "colab_type": "code",
        "outputId": "0bbb3f48-ca49-48ba-867d-ebf8d847ad9c",
        "colab": {
          "base_uri": "https://localhost:8080/",
          "height": 187
        }
      },
      "cell_type": "code",
      "source": [
        "Y_train[:10]\n"
      ],
      "execution_count": 0,
      "outputs": [
        {
          "output_type": "execute_result",
          "data": {
            "text/plain": [
              "array([[0., 0., 0., 0., 0., 1., 0., 0., 0., 0.],\n",
              "       [1., 0., 0., 0., 0., 0., 0., 0., 0., 0.],\n",
              "       [0., 0., 0., 0., 1., 0., 0., 0., 0., 0.],\n",
              "       [0., 1., 0., 0., 0., 0., 0., 0., 0., 0.],\n",
              "       [0., 0., 0., 0., 0., 0., 0., 0., 0., 1.],\n",
              "       [0., 0., 1., 0., 0., 0., 0., 0., 0., 0.],\n",
              "       [0., 1., 0., 0., 0., 0., 0., 0., 0., 0.],\n",
              "       [0., 0., 0., 1., 0., 0., 0., 0., 0., 0.],\n",
              "       [0., 1., 0., 0., 0., 0., 0., 0., 0., 0.],\n",
              "       [0., 0., 0., 0., 1., 0., 0., 0., 0., 0.]], dtype=float32)"
            ]
          },
          "metadata": {
            "tags": []
          },
          "execution_count": 9
        }
      ]
    },
    {
      "metadata": {
        "id": "osKqT73Q9JJB",
        "colab_type": "code",
        "outputId": "aefb5759-881f-4591-fdb2-8d539b27abc4",
        "colab": {
          "base_uri": "https://localhost:8080/",
          "height": 190
        }
      },
      "cell_type": "code",
      "source": [
        "from keras.layers import Activation, MaxPooling2D\n",
        "model = Sequential()                        #from keras.models import Sequential\n",
        "\n",
        "\n",
        "#from keras.layers import Dense, Activation\n",
        "#apply a 3x3 convolution with 32 output filters(channel which filter out) on a 28x28 image:\n",
        "#filter == kernel == feature extractor\n",
        "#\n",
        "#relu : Rectifier Linear Unit\n",
        "model.add(Convolution2D(16, 3, 3, activation='relu', input_shape=(28,28,1)))\n",
        "model.add(Convolution2D(16, (3, 3), activation='relu'))\n",
        "model.add(MaxPooling2D(pool_size=(2, 2)))\n",
        "model.add(Convolution2D(32, 3, 3, activation='relu'))\n",
        "model.add(Convolution2D(30, 3, 3, activation='relu'))\n",
        "model.add(MaxPooling2D(pool_size=(2, 2)))\n",
        "\n",
        "model.add(Convolution2D(10, 1, activation='relu'))\n",
        "model.add(Convolution2D(10, 4))\n",
        "model.add(Flatten())\n",
        "model.add(Activation('softmax'))"
      ],
      "execution_count": 0,
      "outputs": [
        {
          "output_type": "stream",
          "text": [
            "WARNING:tensorflow:From /usr/local/lib/python3.6/dist-packages/tensorflow/python/framework/op_def_library.py:263: colocate_with (from tensorflow.python.framework.ops) is deprecated and will be removed in a future version.\n",
            "Instructions for updating:\n",
            "Colocations handled automatically by placer.\n"
          ],
          "name": "stdout"
        },
        {
          "output_type": "stream",
          "text": [
            "/usr/local/lib/python3.6/dist-packages/ipykernel_launcher.py:10: UserWarning: Update your `Conv2D` call to the Keras 2 API: `Conv2D(16, (3, 3), activation=\"relu\", input_shape=(28, 28, 1...)`\n",
            "  # Remove the CWD from sys.path while we load stuff.\n",
            "/usr/local/lib/python3.6/dist-packages/ipykernel_launcher.py:13: UserWarning: Update your `Conv2D` call to the Keras 2 API: `Conv2D(32, (3, 3), activation=\"relu\")`\n",
            "  del sys.path[0]\n",
            "/usr/local/lib/python3.6/dist-packages/ipykernel_launcher.py:14: UserWarning: Update your `Conv2D` call to the Keras 2 API: `Conv2D(30, (3, 3), activation=\"relu\")`\n",
            "  \n"
          ],
          "name": "stderr"
        }
      ]
    },
    {
      "metadata": {
        "id": "TzdAYg1k9K7Z",
        "colab_type": "code",
        "outputId": "90ebfeb8-a75d-4bb7-f1cd-4c792237cccb",
        "colab": {
          "base_uri": "https://localhost:8080/",
          "height": 476
        }
      },
      "cell_type": "code",
      "source": [
        "# model.add(MaxPooling2D(2,2))\n",
        "model.summary()"
      ],
      "execution_count": 0,
      "outputs": [
        {
          "output_type": "stream",
          "text": [
            "_________________________________________________________________\n",
            "Layer (type)                 Output Shape              Param #   \n",
            "=================================================================\n",
            "conv2d_1 (Conv2D)            (None, 26, 26, 16)        160       \n",
            "_________________________________________________________________\n",
            "conv2d_2 (Conv2D)            (None, 24, 24, 16)        2320      \n",
            "_________________________________________________________________\n",
            "max_pooling2d_1 (MaxPooling2 (None, 12, 12, 16)        0         \n",
            "_________________________________________________________________\n",
            "conv2d_3 (Conv2D)            (None, 10, 10, 32)        4640      \n",
            "_________________________________________________________________\n",
            "conv2d_4 (Conv2D)            (None, 8, 8, 30)          8670      \n",
            "_________________________________________________________________\n",
            "max_pooling2d_2 (MaxPooling2 (None, 4, 4, 30)          0         \n",
            "_________________________________________________________________\n",
            "conv2d_5 (Conv2D)            (None, 4, 4, 10)          310       \n",
            "_________________________________________________________________\n",
            "conv2d_6 (Conv2D)            (None, 1, 1, 10)          1610      \n",
            "_________________________________________________________________\n",
            "flatten_1 (Flatten)          (None, 10)                0         \n",
            "_________________________________________________________________\n",
            "activation_1 (Activation)    (None, 10)                0         \n",
            "=================================================================\n",
            "Total params: 17,710\n",
            "Trainable params: 17,710\n",
            "Non-trainable params: 0\n",
            "_________________________________________________________________\n"
          ],
          "name": "stdout"
        }
      ]
    },
    {
      "metadata": {
        "id": "Zp6SuGrL9M3h",
        "colab_type": "code",
        "colab": {}
      },
      "cell_type": "code",
      "source": [
        "model.compile(loss='categorical_crossentropy',\n",
        "             optimizer='adam',\n",
        "             metrics=['accuracy'])"
      ],
      "execution_count": 0,
      "outputs": []
    },
    {
      "metadata": {
        "id": "4xWoKhPY9Of5",
        "colab_type": "code",
        "outputId": "8264b3c9-040a-4c78-d3c2-756db6b7fc3a",
        "colab": {
          "base_uri": "https://localhost:8080/",
          "height": 2519
        }
      },
      "cell_type": "code",
      "source": [
        "model.fit(X_train, Y_train, batch_size=256, nb_epoch=70, verbose=1)#, validation_data=(X_val, Y_val))"
      ],
      "execution_count": 0,
      "outputs": [
        {
          "output_type": "stream",
          "text": [
            "WARNING:tensorflow:From /usr/local/lib/python3.6/dist-packages/tensorflow/python/ops/math_ops.py:3066: to_int32 (from tensorflow.python.ops.math_ops) is deprecated and will be removed in a future version.\n",
            "Instructions for updating:\n",
            "Use tf.cast instead.\n"
          ],
          "name": "stdout"
        },
        {
          "output_type": "stream",
          "text": [
            "/usr/local/lib/python3.6/dist-packages/ipykernel_launcher.py:1: UserWarning: The `nb_epoch` argument in `fit` has been renamed `epochs`.\n",
            "  \"\"\"Entry point for launching an IPython kernel.\n"
          ],
          "name": "stderr"
        },
        {
          "output_type": "stream",
          "text": [
            "Epoch 1/70\n",
            "60000/60000 [==============================] - 8s 134us/step - loss: 0.5542 - acc: 0.8230\n",
            "Epoch 2/70\n",
            "60000/60000 [==============================] - 3s 58us/step - loss: 0.1155 - acc: 0.9643\n",
            "Epoch 3/70\n",
            "60000/60000 [==============================] - 3s 58us/step - loss: 0.0831 - acc: 0.9744\n",
            "Epoch 4/70\n",
            "60000/60000 [==============================] - 4s 59us/step - loss: 0.0678 - acc: 0.9794\n",
            "Epoch 5/70\n",
            "60000/60000 [==============================] - 3s 58us/step - loss: 0.0595 - acc: 0.9817\n",
            "Epoch 6/70\n",
            "60000/60000 [==============================] - 3s 58us/step - loss: 0.0492 - acc: 0.9849\n",
            "Epoch 7/70\n",
            "60000/60000 [==============================] - 3s 58us/step - loss: 0.0454 - acc: 0.9860\n",
            "Epoch 8/70\n",
            "60000/60000 [==============================] - 3s 58us/step - loss: 0.0407 - acc: 0.9876\n",
            "Epoch 9/70\n",
            "60000/60000 [==============================] - 3s 58us/step - loss: 0.0358 - acc: 0.9891\n",
            "Epoch 10/70\n",
            "60000/60000 [==============================] - 3s 58us/step - loss: 0.0337 - acc: 0.9895\n",
            "Epoch 11/70\n",
            "60000/60000 [==============================] - 4s 58us/step - loss: 0.0316 - acc: 0.9901\n",
            "Epoch 12/70\n",
            "60000/60000 [==============================] - 3s 58us/step - loss: 0.0311 - acc: 0.9900\n",
            "Epoch 13/70\n",
            "60000/60000 [==============================] - 4s 59us/step - loss: 0.0272 - acc: 0.9911\n",
            "Epoch 14/70\n",
            "60000/60000 [==============================] - 4s 59us/step - loss: 0.0256 - acc: 0.9917\n",
            "Epoch 15/70\n",
            "60000/60000 [==============================] - 3s 58us/step - loss: 0.0242 - acc: 0.9926\n",
            "Epoch 16/70\n",
            "60000/60000 [==============================] - 4s 58us/step - loss: 0.0220 - acc: 0.9933\n",
            "Epoch 17/70\n",
            "60000/60000 [==============================] - 3s 58us/step - loss: 0.0197 - acc: 0.9936\n",
            "Epoch 18/70\n",
            "60000/60000 [==============================] - 4s 59us/step - loss: 0.0195 - acc: 0.9939\n",
            "Epoch 19/70\n",
            "60000/60000 [==============================] - 4s 58us/step - loss: 0.0179 - acc: 0.9944\n",
            "Epoch 20/70\n",
            "60000/60000 [==============================] - 3s 58us/step - loss: 0.0163 - acc: 0.9944\n",
            "Epoch 21/70\n",
            "60000/60000 [==============================] - 4s 58us/step - loss: 0.0155 - acc: 0.9950\n",
            "Epoch 22/70\n",
            "60000/60000 [==============================] - 4s 59us/step - loss: 0.0147 - acc: 0.9953\n",
            "Epoch 23/70\n",
            "60000/60000 [==============================] - 3s 58us/step - loss: 0.0142 - acc: 0.9952\n",
            "Epoch 24/70\n",
            "60000/60000 [==============================] - 4s 59us/step - loss: 0.0121 - acc: 0.9959\n",
            "Epoch 25/70\n",
            "60000/60000 [==============================] - 4s 59us/step - loss: 0.0136 - acc: 0.9953\n",
            "Epoch 26/70\n",
            "60000/60000 [==============================] - 4s 59us/step - loss: 0.0102 - acc: 0.9966\n",
            "Epoch 27/70\n",
            "60000/60000 [==============================] - 4s 60us/step - loss: 0.0095 - acc: 0.9968\n",
            "Epoch 28/70\n",
            "60000/60000 [==============================] - 4s 59us/step - loss: 0.0104 - acc: 0.9967\n",
            "Epoch 29/70\n",
            "60000/60000 [==============================] - 4s 59us/step - loss: 0.0093 - acc: 0.9969\n",
            "Epoch 30/70\n",
            "60000/60000 [==============================] - 4s 61us/step - loss: 0.0096 - acc: 0.9969\n",
            "Epoch 31/70\n",
            "60000/60000 [==============================] - 4s 62us/step - loss: 0.0090 - acc: 0.9968\n",
            "Epoch 32/70\n",
            "60000/60000 [==============================] - 4s 63us/step - loss: 0.0067 - acc: 0.9976\n",
            "Epoch 33/70\n",
            "60000/60000 [==============================] - 4s 59us/step - loss: 0.0050 - acc: 0.9984\n",
            "Epoch 34/70\n",
            "60000/60000 [==============================] - 3s 58us/step - loss: 0.0073 - acc: 0.9974\n",
            "Epoch 35/70\n",
            "60000/60000 [==============================] - 4s 58us/step - loss: 0.0084 - acc: 0.9971\n",
            "Epoch 36/70\n",
            "60000/60000 [==============================] - 3s 58us/step - loss: 0.0077 - acc: 0.9973\n",
            "Epoch 37/70\n",
            "60000/60000 [==============================] - 4s 62us/step - loss: 0.0085 - acc: 0.9972\n",
            "Epoch 38/70\n",
            "60000/60000 [==============================] - 4s 65us/step - loss: 0.0045 - acc: 0.9985\n",
            "Epoch 39/70\n",
            "60000/60000 [==============================] - 4s 60us/step - loss: 0.0046 - acc: 0.9983\n",
            "Epoch 40/70\n",
            "60000/60000 [==============================] - 4s 59us/step - loss: 0.0035 - acc: 0.9990\n",
            "Epoch 41/70\n",
            "60000/60000 [==============================] - 3s 58us/step - loss: 0.0036 - acc: 0.9988\n",
            "Epoch 42/70\n",
            "60000/60000 [==============================] - 4s 59us/step - loss: 0.0055 - acc: 0.9982\n",
            "Epoch 43/70\n",
            "60000/60000 [==============================] - 4s 58us/step - loss: 0.0062 - acc: 0.9979\n",
            "Epoch 44/70\n",
            "60000/60000 [==============================] - 3s 58us/step - loss: 0.0071 - acc: 0.9974\n",
            "Epoch 45/70\n",
            "60000/60000 [==============================] - 4s 58us/step - loss: 0.0035 - acc: 0.9989\n",
            "Epoch 46/70\n",
            "60000/60000 [==============================] - 4s 58us/step - loss: 0.0065 - acc: 0.9979\n",
            "Epoch 47/70\n",
            "60000/60000 [==============================] - 3s 58us/step - loss: 0.0042 - acc: 0.9985\n",
            "Epoch 48/70\n",
            "60000/60000 [==============================] - 4s 59us/step - loss: 0.0030 - acc: 0.9989\n",
            "Epoch 49/70\n",
            "60000/60000 [==============================] - 4s 59us/step - loss: 0.0026 - acc: 0.9992\n",
            "Epoch 50/70\n",
            "60000/60000 [==============================] - 4s 59us/step - loss: 0.0058 - acc: 0.9981\n",
            "Epoch 51/70\n",
            "60000/60000 [==============================] - 3s 58us/step - loss: 0.0033 - acc: 0.9990\n",
            "Epoch 52/70\n",
            "60000/60000 [==============================] - 4s 59us/step - loss: 0.0054 - acc: 0.9983\n",
            "Epoch 53/70\n",
            "60000/60000 [==============================] - 3s 58us/step - loss: 0.0030 - acc: 0.9990\n",
            "Epoch 54/70\n",
            "60000/60000 [==============================] - 3s 58us/step - loss: 0.0023 - acc: 0.9994\n",
            "Epoch 55/70\n",
            "60000/60000 [==============================] - 4s 60us/step - loss: 0.0048 - acc: 0.9985\n",
            "Epoch 56/70\n",
            "60000/60000 [==============================] - 4s 59us/step - loss: 0.0047 - acc: 0.9986\n",
            "Epoch 57/70\n",
            "60000/60000 [==============================] - 4s 59us/step - loss: 0.0029 - acc: 0.9990\n",
            "Epoch 58/70\n",
            "60000/60000 [==============================] - 4s 58us/step - loss: 8.2204e-04 - acc: 0.9998\n",
            "Epoch 59/70\n",
            "60000/60000 [==============================] - 4s 58us/step - loss: 0.0018 - acc: 0.9995\n",
            "Epoch 60/70\n",
            "60000/60000 [==============================] - 3s 58us/step - loss: 0.0071 - acc: 0.9974\n",
            "Epoch 61/70\n",
            "60000/60000 [==============================] - 4s 59us/step - loss: 0.0046 - acc: 0.9985\n",
            "Epoch 62/70\n",
            "60000/60000 [==============================] - 4s 59us/step - loss: 0.0021 - acc: 0.9995\n",
            "Epoch 63/70\n",
            "60000/60000 [==============================] - 4s 59us/step - loss: 0.0011 - acc: 0.9998\n",
            "Epoch 64/70\n",
            "60000/60000 [==============================] - 4s 59us/step - loss: 4.8803e-04 - acc: 0.9999\n",
            "Epoch 65/70\n",
            "60000/60000 [==============================] - 4s 59us/step - loss: 3.5422e-04 - acc: 1.0000\n",
            "Epoch 66/70\n",
            "60000/60000 [==============================] - 4s 59us/step - loss: 2.9475e-04 - acc: 1.0000\n",
            "Epoch 67/70\n",
            "60000/60000 [==============================] - 4s 59us/step - loss: 2.8837e-04 - acc: 1.0000\n",
            "Epoch 68/70\n",
            "60000/60000 [==============================] - 4s 59us/step - loss: 2.8527e-04 - acc: 1.0000\n",
            "Epoch 69/70\n",
            "60000/60000 [==============================] - 4s 62us/step - loss: 2.8291e-04 - acc: 1.0000\n",
            "Epoch 70/70\n",
            "60000/60000 [==============================] - 4s 62us/step - loss: 2.8100e-04 - acc: 1.0000\n"
          ],
          "name": "stdout"
        },
        {
          "output_type": "execute_result",
          "data": {
            "text/plain": [
              "<keras.callbacks.History at 0x7ffa6e09a400>"
            ]
          },
          "metadata": {
            "tags": []
          },
          "execution_count": 13
        }
      ]
    },
    {
      "metadata": {
        "id": "QY5Z0-4hnxGB",
        "colab_type": "code",
        "colab": {}
      },
      "cell_type": "code",
      "source": [
        "# model.fit(X_train, Y_train, batch_size=64, nb_epoch=20, verbose=1)#, validation_data=(X_val, Y_val))"
      ],
      "execution_count": 0,
      "outputs": []
    },
    {
      "metadata": {
        "colab_type": "code",
        "id": "qyWhZT4bhNcq",
        "colab": {}
      },
      "cell_type": "code",
      "source": [
        "score = model.evaluate(X_test, Y_test, verbose=0)"
      ],
      "execution_count": 0,
      "outputs": []
    },
    {
      "metadata": {
        "id": "mkX8JMv79q9r",
        "colab_type": "code",
        "outputId": "831a7e81-c65b-4521-a10c-e84dc63f3e4a",
        "colab": {
          "base_uri": "https://localhost:8080/",
          "height": 34
        }
      },
      "cell_type": "code",
      "source": [
        "print(score)"
      ],
      "execution_count": 0,
      "outputs": [
        {
          "output_type": "stream",
          "text": [
            "[0.04185688439489136, 0.9928]\n"
          ],
          "name": "stdout"
        }
      ]
    },
    {
      "metadata": {
        "id": "OCWoJkwE9suh",
        "colab_type": "code",
        "colab": {}
      },
      "cell_type": "code",
      "source": [
        "y_pred = model.predict(X_test)"
      ],
      "execution_count": 0,
      "outputs": []
    },
    {
      "metadata": {
        "id": "Ym7iCFBm9uBs",
        "colab_type": "code",
        "outputId": "731e2474-1063-4e48-893e-39bbe00ca6e5",
        "colab": {
          "base_uri": "https://localhost:8080/",
          "height": 493
        }
      },
      "cell_type": "code",
      "source": [
        "print(y_pred[:9])\n",
        "print(y_test[:9])"
      ],
      "execution_count": 0,
      "outputs": [
        {
          "output_type": "stream",
          "text": [
            "[[5.70061662e-29 3.32745979e-23 4.38289144e-19 1.49894960e-18\n",
            "  4.26400790e-32 2.02659905e-24 0.00000000e+00 1.00000000e+00\n",
            "  2.04097829e-21 1.17165943e-14]\n",
            " [4.86823346e-19 3.27405829e-17 1.00000000e+00 1.11223703e-29\n",
            "  1.67021716e-32 0.00000000e+00 1.08541543e-22 3.43881250e-38\n",
            "  2.78828497e-19 7.91702692e-37]\n",
            " [1.38419856e-18 1.00000000e+00 1.63019945e-12 8.24537473e-17\n",
            "  5.15088146e-11 9.92735692e-14 1.73484577e-15 1.80645943e-09\n",
            "  3.51906546e-12 2.12274948e-15]\n",
            " [1.00000000e+00 8.61533548e-33 1.07133445e-22 5.90524351e-30\n",
            "  3.15776701e-28 4.01130409e-26 1.37685485e-14 4.34479602e-30\n",
            "  8.93018056e-25 2.18867912e-23]\n",
            " [4.26608201e-36 1.57251716e-17 9.87059804e-26 1.07268778e-30\n",
            "  1.00000000e+00 2.77597693e-32 7.01203163e-31 5.53377566e-27\n",
            "  2.95705520e-23 5.69268550e-14]\n",
            " [2.94373385e-20 1.00000000e+00 9.49841910e-15 1.84495462e-20\n",
            "  1.29651864e-13 8.70926168e-22 1.67209060e-18 1.26623362e-13\n",
            "  9.33391480e-14 4.16810917e-17]\n",
            " [0.00000000e+00 1.75055684e-20 2.53364894e-23 6.62674201e-30\n",
            "  1.00000000e+00 5.30122259e-24 7.79851594e-35 3.66016028e-25\n",
            "  1.31824499e-17 2.66375103e-17]\n",
            " [6.49304143e-38 1.58808429e-22 9.64588645e-25 1.08136493e-15\n",
            "  2.25986677e-11 5.17557190e-18 3.24457923e-32 1.30958783e-26\n",
            "  8.41366026e-14 1.00000000e+00]\n",
            " [1.96597591e-16 1.51967097e-29 7.52773737e-23 1.47435619e-27\n",
            "  1.21505882e-29 9.99994397e-01 5.62209607e-06 9.69179223e-32\n",
            "  1.07418900e-11 1.70491808e-13]]\n",
            "[7 2 1 0 4 1 4 9 5]\n"
          ],
          "name": "stdout"
        }
      ]
    },
    {
      "metadata": {
        "id": "CT--y98_dr2T",
        "colab_type": "code",
        "colab": {}
      },
      "cell_type": "code",
      "source": [
        "layer_dict = dict([(layer.name, layer) for layer in model.layers])"
      ],
      "execution_count": 0,
      "outputs": []
    },
    {
      "metadata": {
        "id": "2GY4Upv4dsUR",
        "colab_type": "code",
        "outputId": "06987d2e-93bf-4170-d1a8-12dd986c40d2",
        "colab": {
          "base_uri": "https://localhost:8080/",
          "height": 839
        }
      },
      "cell_type": "code",
      "source": [
        "import numpy as np\n",
        "from matplotlib import pyplot as plt\n",
        "from keras import backend as K\n",
        "%matplotlib inline\n",
        "# util function to convert a tensor into a valid image\n",
        "def deprocess_image(x):\n",
        "    # normalize tensor: center on 0., ensure std is 0.1\n",
        "    x -= x.mean()\n",
        "    x /= (x.std() + 1e-5)\n",
        "    x *= 0.1\n",
        "\n",
        "    # clip to [0, 1]\n",
        "    x += 0.5\n",
        "    x = np.clip(x, 0, 1)\n",
        "\n",
        "    # convert to RGB array\n",
        "    x *= 255\n",
        "    #x = x.transpose((1, 2, 0))\n",
        "    x = np.clip(x, 0, 255).astype('uint8')\n",
        "    return x\n",
        "\n",
        "def vis_img_in_filter(img = np.array(X_train[2]).reshape((1, 28, 28, 1)).astype(np.float64), \n",
        "                      layer_name = 'conv2d_4'):\n",
        "    layer_output = layer_dict[layer_name].output\n",
        "    img_ascs = list()\n",
        "    for filter_index in range(layer_output.shape[3]):\n",
        "        # build a loss function that maximizes the activation\n",
        "        # of the nth filter of the layer considered\n",
        "        loss = K.mean(layer_output[:, :, :, filter_index])\n",
        "\n",
        "        # compute the gradient of the input picture wrt this loss\n",
        "        grads = K.gradients(loss, model.input)[0]\n",
        "\n",
        "        # normalization trick: we normalize the gradient\n",
        "        grads /= (K.sqrt(K.mean(K.square(grads))) + 1e-5)\n",
        "\n",
        "        # this function returns the loss and grads given the input picture\n",
        "        iterate = K.function([model.input], [loss, grads])\n",
        "\n",
        "        # step size for gradient ascent\n",
        "        step = 5.\n",
        "\n",
        "        img_asc = np.array(img)\n",
        "        # run gradient ascent for 20 steps\n",
        "        for i in range(20):\n",
        "            loss_value, grads_value = iterate([img_asc])\n",
        "            img_asc += grads_value * step\n",
        "\n",
        "        img_asc = img_asc[0]\n",
        "        img_ascs.append(deprocess_image(img_asc).reshape((28, 28)))\n",
        "        \n",
        "    if layer_output.shape[3] >= 35:\n",
        "        plot_x, plot_y = 6, 6\n",
        "    elif layer_output.shape[3] >= 23:\n",
        "        plot_x, plot_y = 4, 6\n",
        "    elif layer_output.shape[3] >= 11:\n",
        "        plot_x, plot_y = 2, 6\n",
        "    else:\n",
        "        plot_x, plot_y = 1, 2\n",
        "    fig, ax = plt.subplots(plot_x, plot_y, figsize = (12, 12))\n",
        "    ax[0, 0].imshow(img.reshape((28, 28)), cmap = 'gray')\n",
        "    ax[0, 0].set_title('Input image')\n",
        "    fig.suptitle('Input image and %s filters' % (layer_name,))\n",
        "    fig.tight_layout(pad = 0.3, rect = [0, 0, 0.9, 0.9])\n",
        "    for (x, y) in [(i, j) for i in range(plot_x) for j in range(plot_y)]:\n",
        "        if x == 0 and y == 0:\n",
        "            continue\n",
        "        ax[x, y].imshow(img_ascs[x * plot_y + y - 1], cmap = 'gray')\n",
        "        ax[x, y].set_title('filter %d' % (x * plot_y + y - 1))\n",
        "\n",
        "vis_img_in_filter()"
      ],
      "execution_count": 0,
      "outputs": [
        {
          "output_type": "display_data",
          "data": {
            "image/png": "[encoded data removed]",
            "text/plain": [
              "<Figure size 864x864 with 24 Axes>"
            ]
          },
          "metadata": {
            "tags": []
          }
        }
      ]
    },
    {
      "metadata": {
        "id": "9tvptcn8dxvp",
        "colab_type": "code",
        "colab": {}
      },
      "cell_type": "code",
      "source": [
        ""
      ],
      "execution_count": 0,
      "outputs": []
    }
  ]
}